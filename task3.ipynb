{
  "nbformat": 4,
  "nbformat_minor": 0,
  "metadata": {
    "colab": {
      "provenance": [],
      "authorship_tag": "ABX9TyOCeU2iqXj90Fr4dQoQAhG4",
      "include_colab_link": true
    },
    "kernelspec": {
      "name": "python3",
      "display_name": "Python 3"
    },
    "language_info": {
      "name": "python"
    }
  },
  "cells": [
    {
      "cell_type": "markdown",
      "metadata": {
        "id": "view-in-github",
        "colab_type": "text"
      },
      "source": [
        "<a href=\"https://colab.research.google.com/github/minson18/AI-Capstone-Program1/blob/main/task3.ipynb\" target=\"_parent\"><img src=\"https://colab.research.google.com/assets/colab-badge.svg\" alt=\"Open In Colab\"/></a>"
      ]
    },
    {
      "cell_type": "code",
      "execution_count": null,
      "metadata": {
        "colab": {
          "base_uri": "https://localhost:8080/"
        },
        "id": "wm-MZyuJWsCR",
        "outputId": "f202546d-aa77-4f0b-98c1-80b61fbe6f12"
      },
      "outputs": [
        {
          "output_type": "stream",
          "name": "stdout",
          "text": [
            "Mounted at /content/drive\n"
          ]
        }
      ],
      "source": [
        "from google.colab import drive\n",
        "drive.mount('/content/drive')\n",
        "import os\n",
        "# Root Path\n",
        "os.chdir('/content/drive/MyDrive/AI總整/prog1')\n",
        "\n",
        "TRAIN_PATH = \"task3.csv\""
      ]
    },
    {
      "cell_type": "code",
      "source": [
        "import numpy as np\n",
        "import pandas as pd\n",
        "import math\n",
        "import csv\n",
        "from sklearn.tree import DecisionTreeClassifier\n",
        "from sklearn.ensemble import RandomForestClassifier\n",
        "from sklearn.neighbors import KNeighborsClassifier\n",
        "from sklearn.model_selection import KFold, train_test_split\n",
        "from sklearn.metrics import confusion_matrix, ConfusionMatrixDisplay, classification_report, accuracy_score\n",
        "import random\n",
        "import matplotlib.pyplot as plt\n",
        "from xgboost import XGBClassifier"
      ],
      "metadata": {
        "id": "SQ0Dfg3XW0-E"
      },
      "execution_count": null,
      "outputs": []
    },
    {
      "cell_type": "code",
      "source": [
        "from functools import reduce\n",
        "def report_average(reports):\n",
        "    mean_dict = dict()\n",
        "    for label in reports[0].keys():\n",
        "        dictionary = dict()\n",
        "\n",
        "        if label in 'accuracy':\n",
        "            mean_dict[label] = sum(d[label] for d in reports) / len(reports)\n",
        "            continue\n",
        "\n",
        "        for key in reports[0][label].keys():\n",
        "            dictionary[key] = sum(d[label][key] for d in reports) / len(reports)\n",
        "        mean_dict[label] = dictionary\n",
        "\n",
        "    return mean_dict"
      ],
      "metadata": {
        "id": "C_TRFutLqFeZ"
      },
      "execution_count": null,
      "outputs": []
    },
    {
      "cell_type": "code",
      "source": [
        "from sklearn.feature_extraction.text import TfidfVectorizer\n",
        "data = pd.read_csv(TRAIN_PATH, encoding= 'unicode_escape')\n",
        "documents = data[\"sentence\"].values.tolist()\n",
        "Y = data[\"label\"].to_numpy()\n",
        "\n",
        "# Feature Extraction\n",
        "tfidfconverter = TfidfVectorizer(max_features=100, min_df=2, max_df=1.0)\n",
        "X = tfidfconverter.fit_transform(documents)\n",
        "X = np.array(X.toarray())"
      ],
      "metadata": {
        "id": "_RoPXgQoW9cD"
      },
      "execution_count": null,
      "outputs": []
    },
    {
      "cell_type": "code",
      "source": [
        "# Statistic of dataset\n",
        "words_list = tfidfconverter.get_feature_names_out()\n",
        "print(len(words_list))\n",
        "print('Varience:', np.var(X))\n",
        "freq = np.sum(X, axis=0)\n",
        "top_10 = np.argsort(-freq)[:10]\n",
        "print(\"Top 10 Words\", words_list[top_10])"
      ],
      "metadata": {
        "id": "3nX7kbIom9ZF",
        "colab": {
          "base_uri": "https://localhost:8080/"
        },
        "outputId": "52ab101d-9ce4-4ece-8959-29d36f57f095"
      },
      "execution_count": null,
      "outputs": [
        {
          "output_type": "stream",
          "name": "stdout",
          "text": [
            "100\n",
            "Varience: 0.009060355114832499\n",
            "['the' 'and' 'to' 'he' 'of' 'was' 'had' 'in' 'it' 'his']\n"
          ]
        }
      ]
    },
    {
      "cell_type": "code",
      "source": [
        "# Cross Validation Process\n",
        "# clf:Classifier, X, Y, K:folds of KFold\n",
        "def Cross_Val(clf, X, Y, k):\n",
        "  kf = KFold(n_splits=k, shuffle=True)\n",
        "  CMs = [] # all Confusion Matrices\n",
        "  reports = [] # all Classification Reports\n",
        "\n",
        "  for train_index, val_index in kf.split(X):\n",
        "    x_train = X[train_index]\n",
        "    y_train = Y[train_index]\n",
        "    x_val = X[val_index]\n",
        "    y_val = Y[val_index]\n",
        "\n",
        "    clf.fit(x_train, y_train)\n",
        "    y_pred = clf.predict(x_val)\n",
        "    CM = confusion_matrix(y_val, y_pred)\n",
        "    report = classification_report(y_val, y_pred, digits=4, output_dict=True)\n",
        "    CMs.append(CM)\n",
        "    reports.append(report)\n",
        "\n",
        "  avg_report = report_average(reports)\n",
        "  print(pd.DataFrame(avg_report).T)\n",
        "  total_CM = sum(CMs)\n",
        "  disp = ConfusionMatrixDisplay(confusion_matrix=total_CM, display_labels=np.array([0, 1]))\n",
        "  disp.plot()\n",
        "  plt.show()\n",
        "\n",
        "  return total_CM, avg_report "
      ],
      "metadata": {
        "id": "8tFowjeaW3QV"
      },
      "execution_count": null,
      "outputs": []
    },
    {
      "cell_type": "code",
      "source": [
        "# Define Diferent Size of Dataset\n",
        "X_train, _, y_train, _ = train_test_split(X, Y, train_size=0.2, random_state=0)\n",
        "\n",
        "# RandomForest Experiment\n",
        "CM, report = Cross_Val(RandomForestClassifier(n_estimators=100, max_depth=None, \n",
        "                          random_state=0), X_train, y_train, 5)"
      ],
      "metadata": {
        "colab": {
          "base_uri": "https://localhost:8080/",
          "height": 394
        },
        "id": "T2FviEGcoZu7",
        "outputId": "02e836d5-274c-45e7-f9a8-d30450384cf6"
      },
      "execution_count": null,
      "outputs": [
        {
          "output_type": "stream",
          "name": "stdout",
          "text": [
            "              precision    recall  f1-score   support\n",
            "0              0.456667  0.540000  0.420476  3.200000\n",
            "1              0.640000  0.586667  0.560476  4.200000\n",
            "accuracy       0.507143  0.507143  0.507143  0.507143\n",
            "macro avg      0.548333  0.563333  0.490476  7.400000\n",
            "weighted avg   0.636190  0.507143  0.513810  7.400000\n"
          ]
        },
        {
          "output_type": "display_data",
          "data": {
            "text/plain": [
              "<Figure size 432x288 with 2 Axes>"
            ],
            "image/png": "[encoded data removed]"
          },
          "metadata": {
            "needs_background": "light"
          }
        }
      ]
    },
    {
      "cell_type": "code",
      "source": [
        "# KNN Experiment\n",
        "CM, report = Cross_Val(KNeighborsClassifier(n_neighbors=10), X, Y, 5)"
      ],
      "metadata": {
        "colab": {
          "base_uri": "https://localhost:8080/",
          "height": 390
        },
        "id": "us76bgcPPREN",
        "outputId": "38ce1ba1-d14e-41ea-f3d2-8bfe4341486e"
      },
      "execution_count": null,
      "outputs": [
        {
          "output_type": "stream",
          "name": "stdout",
          "text": [
            "              precision    recall  f1-score    support\n",
            "0              0.585189  0.928947  0.709686  17.000000\n",
            "1              0.888889  0.466068  0.601190  20.800000\n",
            "accuracy       0.666714  0.666714  0.666714   0.666714\n",
            "macro avg      0.737039  0.697508  0.655438  37.800000\n",
            "weighted avg   0.766225  0.666714  0.653305  37.800000\n"
          ]
        },
        {
          "output_type": "display_data",
          "data": {
            "text/plain": [
              "<Figure size 432x288 with 2 Axes>"
            ],
            "image/png": "[encoded data removed]"
          },
          "metadata": {
            "needs_background": "light"
          }
        }
      ]
    },
    {
      "cell_type": "code",
      "source": [
        "CMs, reports = Cross_Val(XGBClassifier(), X, Y, 5)"
      ],
      "metadata": {
        "colab": {
          "base_uri": "https://localhost:8080/",
          "height": 390
        },
        "id": "ZW1pivmRou6a",
        "outputId": "925b17a1-4527-4b43-a5e3-19adf4e2cfac"
      },
      "execution_count": null,
      "outputs": [
        {
          "output_type": "stream",
          "name": "stdout",
          "text": [
            "              precision    recall  f1-score    support\n",
            "0              0.814764  0.858971  0.836012  17.000000\n",
            "1              0.875615  0.835209  0.854742  20.800000\n",
            "accuracy       0.846942  0.846942  0.846942   0.846942\n",
            "macro avg      0.845190  0.847090  0.845377  37.800000\n",
            "weighted avg   0.849194  0.846942  0.847321  37.800000\n"
          ]
        },
        {
          "output_type": "display_data",
          "data": {
            "text/plain": [
              "<Figure size 432x288 with 2 Axes>"
            ],
            "image/png": "[encoded data removed]"
          },
          "metadata": {
            "needs_background": "light"
          }
        }
      ]
    }
  ]
}