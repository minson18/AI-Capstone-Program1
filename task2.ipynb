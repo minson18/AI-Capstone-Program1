{
  "nbformat": 4,
  "nbformat_minor": 0,
  "metadata": {
    "colab": {
      "provenance": [],
      "authorship_tag": "ABX9TyMAIoGhxGqiNCa6OUjGsMmz",
      "include_colab_link": true
    },
    "kernelspec": {
      "name": "python3",
      "display_name": "Python 3"
    },
    "language_info": {
      "name": "python"
    }
  },
  "cells": [
    {
      "cell_type": "markdown",
      "metadata": {
        "id": "view-in-github",
        "colab_type": "text"
      },
      "source": [
        "<a href=\"https://colab.research.google.com/github/minson18/AI-Capstone-Program1/blob/main/task2.ipynb\" target=\"_parent\"><img src=\"https://colab.research.google.com/assets/colab-badge.svg\" alt=\"Open In Colab\"/></a>"
      ]
    },
    {
      "cell_type": "code",
      "execution_count": null,
      "metadata": {
        "id": "yzgD7SrgwFAz",
        "colab": {
          "base_uri": "https://localhost:8080/"
        },
        "outputId": "fd96fd6a-70d2-4ec4-bd73-27b09a2c1bfe"
      },
      "outputs": [
        {
          "output_type": "stream",
          "name": "stdout",
          "text": [
            "Mounted at /content/drive\n"
          ]
        }
      ],
      "source": [
        "from google.colab import drive\n",
        "drive.mount('/content/drive')\n",
        "import os\n",
        "# Root Path\n",
        "os.chdir('/content/drive/MyDrive/AI總整/prog1')\n",
        "\n",
        "TRAIN_PATH = \"Customers.csv\""
      ]
    },
    {
      "cell_type": "code",
      "source": [
        "import numpy as np\n",
        "import pandas as pd\n",
        "import math\n",
        "import csv\n",
        "from sklearn.tree import DecisionTreeClassifier\n",
        "from sklearn.ensemble import RandomForestClassifier, AdaBoostClassifier\n",
        "from sklearn.model_selection import KFold, train_test_split\n",
        "from sklearn.metrics import confusion_matrix, ConfusionMatrixDisplay, classification_report, accuracy_score\n",
        "import random\n",
        "import matplotlib.pyplot as plt\n",
        "from xgboost import XGBClassifier\n",
        "from sklearn.pipeline import make_pipeline\n",
        "from sklearn.preprocessing import StandardScaler\n",
        "from sklearn.svm import SVC"
      ],
      "metadata": {
        "id": "MHc3VTbHw9rO"
      },
      "execution_count": null,
      "outputs": []
    },
    {
      "cell_type": "code",
      "source": [
        "# Data Processing\n",
        "data_df = pd.read_csv(TRAIN_PATH)\n",
        "# Replace striing as int\n",
        "data_df['Gender'] = data_df['Gender'].replace(['Female', 'Male'], [0, 1])\n",
        "data_df['Profession'] = data_df['Profession'].replace(\n",
        "            data_df[\"Profession\"].unique(), list(range(data_df[\"Profession\"].unique().size)))\n",
        "\n",
        "# Define Predicted Target\n",
        "data_df.insert(len(data_df.columns), 'High Spending', 0)\n",
        "data_df.loc[data_df['Spending Score (1-100)']>50, 'High Spending'] = 1\n",
        "\n",
        "# Drop Unneedee Columns\n",
        "data_df.drop(['Spending Score (1-100)', 'CustomerID'], axis = 1, inplace = True)\n",
        "\n",
        "data = data_df.to_numpy()\n",
        "X = data[:, :-1]\n",
        "Y = data[:, -1]"
      ],
      "metadata": {
        "id": "v9cvqr8zw-P8"
      },
      "execution_count": null,
      "outputs": []
    },
    {
      "cell_type": "code",
      "source": [
        "from functools import reduce\n",
        "def report_average(reports):\n",
        "    mean_dict = dict()\n",
        "    for label in reports[0].keys():\n",
        "        dictionary = dict()\n",
        "\n",
        "        if label in 'accuracy':\n",
        "            mean_dict[label] = sum(d[label] for d in reports) / len(reports)\n",
        "            continue\n",
        "\n",
        "        for key in reports[0][label].keys():\n",
        "            dictionary[key] = sum(d[label][key] for d in reports) / len(reports)\n",
        "        mean_dict[label] = dictionary\n",
        "\n",
        "    return mean_dict"
      ],
      "metadata": {
        "id": "kUqSlZHQzQLa"
      },
      "execution_count": null,
      "outputs": []
    },
    {
      "cell_type": "code",
      "source": [
        "# Cross Validation Process\n",
        "# clf:Classifier, X, Y, K:folds of KFold\n",
        "def Cross_Val(clf, X, Y, k):\n",
        "  kf = KFold(n_splits=k, shuffle=True)\n",
        "  CMs = [] # all Confusion Matrices\n",
        "  reports = [] # all Classification Reports\n",
        "\n",
        "  for train_index, val_index in kf.split(X):\n",
        "    x_train = X[train_index]\n",
        "    y_train = Y[train_index]\n",
        "    x_val = X[val_index]\n",
        "    y_val = Y[val_index]\n",
        "\n",
        "    clf.fit(x_train, y_train)\n",
        "    y_pred = clf.predict(x_val)\n",
        "    CM = confusion_matrix(y_val, y_pred)\n",
        "    report = classification_report(y_val, y_pred, digits=4, output_dict=True)\n",
        "    CMs.append(CM)\n",
        "    reports.append(report)\n",
        "\n",
        "  avg_report = report_average(reports)\n",
        "  print(pd.DataFrame(avg_report).T)\n",
        "  total_CM = sum(CMs)\n",
        "  disp = ConfusionMatrixDisplay(confusion_matrix=total_CM, display_labels=np.array([0, 1]))\n",
        "  disp.plot()\n",
        "  plt.show()\n",
        "\n",
        "  return total_CM, avg_report "
      ],
      "metadata": {
        "id": "HvD8jCDvMT2o"
      },
      "execution_count": null,
      "outputs": []
    },
    {
      "cell_type": "code",
      "source": [
        "# Adaboost Experiment\n",
        "CMs, reports = Cross_Val(AdaBoostClassifier(n_estimators=100, learning_rate=0.01, random_state=0), X, Y, 5)"
      ],
      "metadata": {
        "colab": {
          "base_uri": "https://localhost:8080/"
        },
        "id": "dKxzeV5w7AIl",
        "outputId": "d2a62e80-6b71-47c0-d645-1c8a41e97789"
      },
      "execution_count": null,
      "outputs": [
        {
          "output_type": "stream",
          "name": "stdout",
          "text": [
            "              precision    recall  f1-score  support\n",
            "0              0.497620  0.494243  0.476729  201.400\n",
            "1              0.495491  0.500654  0.478093  198.600\n",
            "accuracy       0.489000  0.489000  0.489000    0.489\n",
            "macro avg      0.496555  0.497448  0.477411  400.000\n",
            "weighted avg   0.498240  0.489000  0.473860  400.000\n"
          ]
        },
        {
          "output_type": "display_data",
          "data": {
            "text/plain": [
              "<Figure size 432x288 with 2 Axes>"
            ],
            "image/png": "[encoded data removed]"
          },
          "metadata": {
            "needs_background": "light"
          }
        }
      ]
    },
    {
      "cell_type": "code",
      "source": [
        "# Define Different Size of Dataset\n",
        "X_train, _, y_train, _ = train_test_split(X, Y, train_size=0.2, random_state=0)\n",
        "\n",
        "# Adaboost Experiment\n",
        "CMs, reports = Cross_Val(DecisionTreeClassifier(max_depth=2, random_state=0), X_train, y_train, 5)"
      ],
      "metadata": {
        "colab": {
          "base_uri": "https://localhost:8080/",
          "height": 390
        },
        "id": "s8tG3PLHO0zZ",
        "outputId": "d84f34b6-f439-438d-8a26-36c5584c204d"
      },
      "execution_count": null,
      "outputs": [
        {
          "output_type": "stream",
          "name": "stdout",
          "text": [
            "              precision    recall  f1-score  support\n",
            "0              0.492343  0.552896  0.514432     40.2\n",
            "1              0.465997  0.415145  0.427827     39.8\n",
            "accuracy       0.500000  0.500000  0.500000      0.5\n",
            "macro avg      0.479170  0.484021  0.471130     80.0\n",
            "weighted avg   0.484115  0.500000  0.481884     80.0\n"
          ]
        },
        {
          "output_type": "display_data",
          "data": {
            "text/plain": [
              "<Figure size 432x288 with 2 Axes>"
            ],
            "image/png": "[encoded data removed]"
          },
          "metadata": {
            "needs_background": "light"
          }
        }
      ]
    },
    {
      "cell_type": "code",
      "source": [
        "CMs, reports = Cross_Val(XGBClassifier(learning_rate=0.001), X, Y, 5)"
      ],
      "metadata": {
        "colab": {
          "base_uri": "https://localhost:8080/",
          "height": 390
        },
        "id": "dRFzwObsQP1-",
        "outputId": "996a6448-3f03-49b5-f2e4-ae0d0ee511da"
      },
      "execution_count": null,
      "outputs": [
        {
          "output_type": "stream",
          "name": "stdout",
          "text": [
            "              precision    recall  f1-score  support\n",
            "0              0.494786  0.523863  0.506140  201.400\n",
            "1              0.492384  0.463693  0.474324  198.600\n",
            "accuracy       0.495000  0.495000  0.495000    0.495\n",
            "macro avg      0.493585  0.493778  0.490232  400.000\n",
            "weighted avg   0.494612  0.495000  0.491353  400.000\n"
          ]
        },
        {
          "output_type": "display_data",
          "data": {
            "text/plain": [
              "<Figure size 432x288 with 2 Axes>"
            ],
            "image/png": "[encoded data removed]"
          },
          "metadata": {
            "needs_background": "light"
          }
        }
      ]
    },
    {
      "cell_type": "code",
      "source": [
        "clf = make_pipeline(StandardScaler(), SVC(gamma='scale'))\n",
        "CMs, reports = Cross_Val(clf, X, Y, 5)"
      ],
      "metadata": {
        "colab": {
          "base_uri": "https://localhost:8080/",
          "height": 391
        },
        "id": "sIEUxVKu2MWo",
        "outputId": "6f0cd1c8-d852-4efc-a62a-86ad8b4173c1"
      },
      "execution_count": null,
      "outputs": [
        {
          "output_type": "stream",
          "name": "stdout",
          "text": [
            "              precision    recall  f1-score   support\n",
            "0              0.483149  0.442570  0.459169  201.4000\n",
            "1              0.477604  0.518687  0.494869  198.6000\n",
            "accuracy       0.479500  0.479500  0.479500    0.4795\n",
            "macro avg      0.480377  0.480628  0.477019  400.0000\n",
            "weighted avg   0.480536  0.479500  0.476528  400.0000\n"
          ]
        },
        {
          "output_type": "display_data",
          "data": {
            "text/plain": [
              "<Figure size 432x288 with 2 Axes>"
            ],
            "image/png": "[encoded data removed]"
          },
          "metadata": {
            "needs_background": "light"
          }
        }
      ]
    },
    {
      "cell_type": "code",
      "source": [
        "CMs, reports = Cross_Val(RandomForestClassifier(max_depth=1, random_state=0), X, Y, 5)"
      ],
      "metadata": {
        "colab": {
          "base_uri": "https://localhost:8080/",
          "height": 392
        },
        "id": "itIBSCJ7PmB4",
        "outputId": "e2fb69b5-49f3-4e41-bc2e-201340d46fb3"
      },
      "execution_count": null,
      "outputs": [
        {
          "output_type": "stream",
          "name": "stdout",
          "text": [
            "              precision    recall  f1-score   support\n",
            "0              0.504475  0.647934  0.553218  201.4000\n",
            "1              0.487614  0.346392  0.378973  198.6000\n",
            "accuracy       0.493500  0.493500  0.493500    0.4935\n",
            "macro avg      0.496044  0.497163  0.466096  400.0000\n",
            "weighted avg   0.496521  0.493500  0.464361  400.0000\n"
          ]
        },
        {
          "output_type": "display_data",
          "data": {
            "text/plain": [
              "<Figure size 432x288 with 2 Axes>"
            ],
            "image/png": "[encoded data removed]"
          },
          "metadata": {
            "needs_background": "light"
          }
        }
      ]
    }
  ]
}